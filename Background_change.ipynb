{
 "cells": [
  {
   "cell_type": "code",
   "execution_count": 1,
   "metadata": {},
   "outputs": [],
   "source": [
    "import pixellib\n",
    "from pixellib.tune_bg import alter_bg"
   ]
  },
  {
   "cell_type": "code",
   "execution_count": 2,
   "metadata": {},
   "outputs": [],
   "source": [
    "from sys import path\n",
    "import os\n",
    "path.append(os.path.realpath('../'))"
   ]
  },
  {
   "cell_type": "code",
   "execution_count": 3,
   "metadata": {},
   "outputs": [],
   "source": [
    "dir_C = os.getcwd()"
   ]
  },
  {
   "cell_type": "code",
   "execution_count": 4,
   "metadata": {},
   "outputs": [],
   "source": [
    "inputs = os.path.join(dir_C, \"Input\")\n",
    "outputs = os.path.join(dir_C, \"Output\")\n",
    "models = os.path.join(dir_C, \"Models\")\n",
    "background = os.path.join(dir_C, 'Background')"
   ]
  },
  {
   "cell_type": "code",
   "execution_count": 5,
   "metadata": {},
   "outputs": [],
   "source": [
    "model_1 = os.path.join(models, \"deeplabv3_xception_tf_dim_ordering_tf_kernels.h5\")\n",
    "model_2 = os.path.join(models, \"xception_pascalvoc.pb\")"
   ]
  },
  {
   "cell_type": "code",
   "execution_count": 6,
   "metadata": {},
   "outputs": [],
   "source": [
    "imagen_1 = os.path.join(inputs, \"imagen_1.jpg\")\n",
    "imagen_2 = os.path.join(inputs, \"imagen_2.png\")"
   ]
  },
  {
   "cell_type": "markdown",
   "metadata": {},
   "source": [
    "## Changing the background to grey color"
   ]
  },
  {
   "cell_type": "code",
   "execution_count": 7,
   "metadata": {},
   "outputs": [
    {
     "data": {
      "text/plain": [
       "array([[[177, 177, 177],\n",
       "        [173, 173, 173],\n",
       "        [171, 171, 171],\n",
       "        ...,\n",
       "        [114, 114, 114],\n",
       "        [117, 117, 117],\n",
       "        [122, 122, 122]],\n",
       "\n",
       "       [[176, 176, 176],\n",
       "        [173, 173, 173],\n",
       "        [169, 169, 169],\n",
       "        ...,\n",
       "        [127, 127, 127],\n",
       "        [132, 132, 132],\n",
       "        [135, 135, 135]],\n",
       "\n",
       "       [[174, 174, 174],\n",
       "        [170, 170, 170],\n",
       "        [167, 167, 167],\n",
       "        ...,\n",
       "        [141, 141, 141],\n",
       "        [146, 146, 146],\n",
       "        [150, 150, 150]],\n",
       "\n",
       "       ...,\n",
       "\n",
       "       [[234, 217, 207],\n",
       "        [234, 216, 207],\n",
       "        [233, 216, 206],\n",
       "        ...,\n",
       "        [166, 157, 143],\n",
       "        [165, 156, 142],\n",
       "        [162, 155, 139]],\n",
       "\n",
       "       [[236, 218, 209],\n",
       "        [240, 222, 212],\n",
       "        [240, 221, 211],\n",
       "        ...,\n",
       "        [165, 156, 142],\n",
       "        [163, 154, 140],\n",
       "        [162, 156, 139]],\n",
       "\n",
       "       [[237, 221, 212],\n",
       "        [239, 222, 212],\n",
       "        [239, 222, 212],\n",
       "        ...,\n",
       "        [165, 155, 141],\n",
       "        [164, 154, 140],\n",
       "        [162, 154, 139]]], dtype=uint8)"
      ]
     },
     "execution_count": 7,
     "metadata": {},
     "output_type": "execute_result"
    }
   ],
   "source": [
    "change_bg = alter_bg(model_type = \"pb\")\n",
    "change_bg.load_pascalvoc_model(model_2)\n",
    "change_bg.gray_bg(imagen_2, detect = \"person\", output_image_name = os.path.join(outputs, \"img_2_gray.jpg\"))"
   ]
  },
  {
   "cell_type": "markdown",
   "metadata": {},
   "source": [
    "## Changing the background for another one"
   ]
  },
  {
   "cell_type": "code",
   "execution_count": 8,
   "metadata": {},
   "outputs": [],
   "source": [
    "beach = os.path.join(background, \"beach_bg.jpg\")"
   ]
  },
  {
   "cell_type": "code",
   "execution_count": 9,
   "metadata": {},
   "outputs": [
    {
     "data": {
      "text/plain": [
       "array([[[ 26,  25,  21],\n",
       "        [ 29,  25,  25],\n",
       "        [ 30,  27,  23],\n",
       "        ...,\n",
       "        [114,  78,   3],\n",
       "        [111,  78,   0],\n",
       "        [111,  78,   0]],\n",
       "\n",
       "       [[ 29,  26,  21],\n",
       "        [ 31,  27,  23],\n",
       "        [ 30,  27,  22],\n",
       "        ...,\n",
       "        [112,  74,   0],\n",
       "        [116,  80,   4],\n",
       "        [113,  77,   1]],\n",
       "\n",
       "       [[ 30,  25,  24],\n",
       "        [ 29,  26,  21],\n",
       "        [ 28,  26,  18],\n",
       "        ...,\n",
       "        [115,  76,   1],\n",
       "        [113,  77,   1],\n",
       "        [110,  74,   0]],\n",
       "\n",
       "       ...,\n",
       "\n",
       "       [[234, 217, 207],\n",
       "        [234, 216, 207],\n",
       "        [233, 216, 206],\n",
       "        ...,\n",
       "        [166, 157, 143],\n",
       "        [165, 156, 142],\n",
       "        [162, 155, 139]],\n",
       "\n",
       "       [[236, 218, 209],\n",
       "        [240, 222, 212],\n",
       "        [240, 221, 211],\n",
       "        ...,\n",
       "        [165, 156, 142],\n",
       "        [163, 154, 140],\n",
       "        [162, 156, 139]],\n",
       "\n",
       "       [[237, 221, 212],\n",
       "        [239, 222, 212],\n",
       "        [239, 222, 212],\n",
       "        ...,\n",
       "        [165, 155, 141],\n",
       "        [164, 154, 140],\n",
       "        [162, 154, 139]]], dtype=uint8)"
      ]
     },
     "execution_count": 9,
     "metadata": {},
     "output_type": "execute_result"
    }
   ],
   "source": [
    "change_bg = alter_bg()\n",
    "change_bg.load_pascalvoc_model(model_1)\n",
    "change_bg.change_bg_img(f_image_path = imagen_2, b_image_path = beach, output_image_name= os.path.join(outputs, \"img_2_bg.jpg\"))"
   ]
  }
 ],
 "metadata": {
  "kernelspec": {
   "display_name": "Python 3.8.12 ('backg')",
   "language": "python",
   "name": "python3"
  },
  "language_info": {
   "codemirror_mode": {
    "name": "ipython",
    "version": 3
   },
   "file_extension": ".py",
   "mimetype": "text/x-python",
   "name": "python",
   "nbconvert_exporter": "python",
   "pygments_lexer": "ipython3",
   "version": "3.8.12"
  },
  "orig_nbformat": 4,
  "vscode": {
   "interpreter": {
    "hash": "efd0e18f588126e3aa528cb492941c79670aedf6485146c1d0d3120cd3344196"
   }
  }
 },
 "nbformat": 4,
 "nbformat_minor": 2
}
